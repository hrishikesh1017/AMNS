{
 "cells": [
  {
   "cell_type": "code",
   "execution_count": 34,
   "metadata": {},
   "outputs": [],
   "source": [
    "import numpy as np\n",
    "import pandas as pd"
   ]
  },
  {
   "cell_type": "code",
   "execution_count": 35,
   "metadata": {},
   "outputs": [],
   "source": [
    "df_horizontal = pd.read_csv(\"anomaly_horizontal.csv\")\n",
    "df_vertical = pd.read_csv(\"anomaly_vertical.csv\")\n",
    "df_axial = pd.read_csv(\"anomaly_axial.csv\")"
   ]
  },
  {
   "cell_type": "code",
   "execution_count": 36,
   "metadata": {},
   "outputs": [
    {
     "name": "stdout",
     "output_type": "stream",
     "text": [
      "Index(['CF2_MNDE_H_VBT', 'anomaly'], dtype='object')\n",
      "Index(['CF2_MNDE_V_VBT', 'anomaly'], dtype='object')\n",
      "Index(['CF2_MOTOR_NDE_AXIAL_VIB', 'anomaly'], dtype='object')\n"
     ]
    }
   ],
   "source": [
    "l1 = [df_horizontal,df_vertical,df_axial]\n",
    "for i in l1:\n",
    "    print (i.columns)"
   ]
  },
  {
   "cell_type": "code",
   "execution_count": 37,
   "metadata": {},
   "outputs": [
    {
     "data": {
      "text/html": [
       "<div>\n",
       "<style scoped>\n",
       "    .dataframe tbody tr th:only-of-type {\n",
       "        vertical-align: middle;\n",
       "    }\n",
       "\n",
       "    .dataframe tbody tr th {\n",
       "        vertical-align: top;\n",
       "    }\n",
       "\n",
       "    .dataframe thead th {\n",
       "        text-align: right;\n",
       "    }\n",
       "</style>\n",
       "<table border=\"1\" class=\"dataframe\">\n",
       "  <thead>\n",
       "    <tr style=\"text-align: right;\">\n",
       "      <th></th>\n",
       "      <th>CF2_MNDE_H_VBT</th>\n",
       "      <th>CF2_MNDE_V_VBT</th>\n",
       "      <th>CF2_MOTOR_NDE_AXIAL_VIB</th>\n",
       "      <th>condition</th>\n",
       "    </tr>\n",
       "  </thead>\n",
       "  <tbody>\n",
       "    <tr>\n",
       "      <th>0</th>\n",
       "      <td>0.650</td>\n",
       "      <td>0.420</td>\n",
       "      <td>1.000</td>\n",
       "      <td>Good</td>\n",
       "    </tr>\n",
       "    <tr>\n",
       "      <th>1</th>\n",
       "      <td>0.646</td>\n",
       "      <td>0.422</td>\n",
       "      <td>1.010</td>\n",
       "      <td>Good</td>\n",
       "    </tr>\n",
       "    <tr>\n",
       "      <th>2</th>\n",
       "      <td>0.642</td>\n",
       "      <td>0.424</td>\n",
       "      <td>1.020</td>\n",
       "      <td>Good</td>\n",
       "    </tr>\n",
       "    <tr>\n",
       "      <th>3</th>\n",
       "      <td>0.638</td>\n",
       "      <td>0.426</td>\n",
       "      <td>1.030</td>\n",
       "      <td>Good</td>\n",
       "    </tr>\n",
       "    <tr>\n",
       "      <th>4</th>\n",
       "      <td>0.634</td>\n",
       "      <td>0.428</td>\n",
       "      <td>1.040</td>\n",
       "      <td>Good</td>\n",
       "    </tr>\n",
       "    <tr>\n",
       "      <th>...</th>\n",
       "      <td>...</td>\n",
       "      <td>...</td>\n",
       "      <td>...</td>\n",
       "      <td>...</td>\n",
       "    </tr>\n",
       "    <tr>\n",
       "      <th>2591991</th>\n",
       "      <td>0.654</td>\n",
       "      <td>0.408</td>\n",
       "      <td>0.866</td>\n",
       "      <td>Good</td>\n",
       "    </tr>\n",
       "    <tr>\n",
       "      <th>2591992</th>\n",
       "      <td>0.648</td>\n",
       "      <td>0.406</td>\n",
       "      <td>0.862</td>\n",
       "      <td>Good</td>\n",
       "    </tr>\n",
       "    <tr>\n",
       "      <th>2591993</th>\n",
       "      <td>0.642</td>\n",
       "      <td>0.404</td>\n",
       "      <td>0.858</td>\n",
       "      <td>Good</td>\n",
       "    </tr>\n",
       "    <tr>\n",
       "      <th>2591994</th>\n",
       "      <td>0.636</td>\n",
       "      <td>0.402</td>\n",
       "      <td>0.854</td>\n",
       "      <td>Good</td>\n",
       "    </tr>\n",
       "    <tr>\n",
       "      <th>2591995</th>\n",
       "      <td>0.630</td>\n",
       "      <td>0.400</td>\n",
       "      <td>0.850</td>\n",
       "      <td>Good</td>\n",
       "    </tr>\n",
       "  </tbody>\n",
       "</table>\n",
       "<p>2591996 rows × 4 columns</p>\n",
       "</div>"
      ],
      "text/plain": [
       "         CF2_MNDE_H_VBT  CF2_MNDE_V_VBT  CF2_MOTOR_NDE_AXIAL_VIB condition\n",
       "0                 0.650           0.420                    1.000      Good\n",
       "1                 0.646           0.422                    1.010      Good\n",
       "2                 0.642           0.424                    1.020      Good\n",
       "3                 0.638           0.426                    1.030      Good\n",
       "4                 0.634           0.428                    1.040      Good\n",
       "...                 ...             ...                      ...       ...\n",
       "2591991           0.654           0.408                    0.866      Good\n",
       "2591992           0.648           0.406                    0.862      Good\n",
       "2591993           0.642           0.404                    0.858      Good\n",
       "2591994           0.636           0.402                    0.854      Good\n",
       "2591995           0.630           0.400                    0.850      Good\n",
       "\n",
       "[2591996 rows x 4 columns]"
      ]
     },
     "execution_count": 37,
     "metadata": {},
     "output_type": "execute_result"
    }
   ],
   "source": [
    "import pandas as pd\n",
    "\n",
    "\n",
    "\n",
    "# Combine the DataFrames into a single DataFrame\n",
    "combined_df = pd.concat([\n",
    "    df_horizontal[['CF2_MNDE_H_VBT', 'anomaly']],\n",
    "    df_vertical[['CF2_MNDE_V_VBT', 'anomaly']],\n",
    "    df_axial[['CF2_MOTOR_NDE_AXIAL_VIB', 'anomaly']]\n",
    "], axis=1)\n",
    "\n",
    "# Rename columns to avoid conflicts\n",
    "combined_df.columns = ['CF2_MNDE_H_VBT', 'anomaly_H', 'CF2_MNDE_V_VBT', 'anomaly_V', 'CF2_MOTOR_NDE_AXIAL_VIB', 'anomaly_A']\n",
    "\n",
    "# Define the condition based on the anomaly values\n",
    "def determine_condition(row):\n",
    "    anomaly_values = [row['anomaly_H'], row['anomaly_V'], row['anomaly_A']]\n",
    "    negative_count = anomaly_values.count(-1)\n",
    "    if negative_count == 0:\n",
    "        return 'Good'\n",
    "    elif negative_count == 1:\n",
    "        return 'Moderate'\n",
    "    elif negative_count == 2:\n",
    "        return 'Critical'\n",
    "    elif negative_count == 3:\n",
    "        return 'Failure'\n",
    "\n",
    "# Apply the condition function to each row\n",
    "combined_df['condition'] = combined_df.apply(determine_condition, axis=1)\n",
    "\n",
    "# Drop the anomaly columns if not needed anymore\n",
    "combined_df = combined_df.drop(columns=['anomaly_H', 'anomaly_V', 'anomaly_A'])\n",
    "\n",
    "# Display the final DataFrame\n",
    "combined_df\n"
   ]
  },
  {
   "cell_type": "code",
   "execution_count": 38,
   "metadata": {},
   "outputs": [
    {
     "data": {
      "text/plain": [
       "condition\n",
       "Good        2179880\n",
       "Moderate     196458\n",
       "Failure      143975\n",
       "Critical      71683\n",
       "Name: count, dtype: int64"
      ]
     },
     "execution_count": 38,
     "metadata": {},
     "output_type": "execute_result"
    }
   ],
   "source": [
    "combined_df[\"condition\"].value_counts()"
   ]
  },
  {
   "cell_type": "code",
   "execution_count": 39,
   "metadata": {},
   "outputs": [],
   "source": [
    "from sklearn.model_selection import train_test_split\n",
    "X = combined_df[['CF2_MNDE_H_VBT', 'CF2_MNDE_V_VBT', 'CF2_MOTOR_NDE_AXIAL_VIB']]\n",
    "y = combined_df['condition']\n",
    "X_train, X_test, y_train, y_test = train_test_split(X, y, test_size=0.3, stratify=y, random_state=42)\n",
    "\n"
   ]
  },
  {
   "cell_type": "code",
   "execution_count": 40,
   "metadata": {},
   "outputs": [],
   "source": [
    "from catboost import CatBoostClassifier\n",
    "model = CatBoostClassifier(iterations=100, learning_rate=0.1, depth=6, verbose=False)\n",
    "model.fit(X_train, y_train)\n",
    "y_pred = model.predict(X_test)\n",
    "\n"
   ]
  },
  {
   "cell_type": "code",
   "execution_count": 41,
   "metadata": {},
   "outputs": [
    {
     "name": "stdout",
     "output_type": "stream",
     "text": [
      "0.9978395033944231\n",
      "[[ 21220     34      1    250]\n",
      " [    41  43152      0      0]\n",
      " [     0      0 653835    129]\n",
      " [    70      0   1155  57712]]\n"
     ]
    }
   ],
   "source": [
    "from sklearn.metrics import confusion_matrix, accuracy_score\n",
    "cf = confusion_matrix(y_test,y_pred)\n",
    "acc = accuracy_score(y_test,y_pred)\n",
    "\n",
    "print(acc)\n",
    "print(cf)"
   ]
  },
  {
   "cell_type": "code",
   "execution_count": 42,
   "metadata": {},
   "outputs": [
    {
     "data": {
      "text/plain": [
       "['catboost_model.joblib']"
      ]
     },
     "execution_count": 42,
     "metadata": {},
     "output_type": "execute_result"
    }
   ],
   "source": [
    "import joblib\n",
    "model_filename = 'catboost_model.joblib'\n",
    "joblib.dump(model, model_filename)"
   ]
  },
  {
   "cell_type": "code",
   "execution_count": 50,
   "metadata": {},
   "outputs": [
    {
     "name": "stdout",
     "output_type": "stream",
     "text": [
      "Predicted Condition: ['Moderate']\n"
     ]
    }
   ],
   "source": [
    "loaded_model = joblib.load('catboost_model.joblib')\n",
    "\n",
    "new_data = pd.DataFrame({\n",
    "    'CF2_MNDE_H_VBT': [6.695],  # Example value, replace with actual data\n",
    "    'CF2_MNDE_V_VBT': [0.40],  # Example value, replace with actual data\n",
    "    'CF2_MOTOR_NDE_AXIAL_VIB': [0.86]  # Example value, replace with actual data\n",
    "})\n",
    "\n",
    "predicted_label = loaded_model.predict(new_data)\n",
    "\n",
    "print(f\"Predicted Condition: {predicted_label[0]}\")"
   ]
  },
  {
   "cell_type": "code",
   "execution_count": 52,
   "metadata": {},
   "outputs": [],
   "source": [
    "combined_df.to_csv(\"train.csv\",index = False)"
   ]
  }
 ],
 "metadata": {
  "kernelspec": {
   "display_name": "Python 3",
   "language": "python",
   "name": "python3"
  },
  "language_info": {
   "codemirror_mode": {
    "name": "ipython",
    "version": 3
   },
   "file_extension": ".py",
   "mimetype": "text/x-python",
   "name": "python",
   "nbconvert_exporter": "python",
   "pygments_lexer": "ipython3",
   "version": "3.12.4"
  }
 },
 "nbformat": 4,
 "nbformat_minor": 2
}
